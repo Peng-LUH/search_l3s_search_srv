{
 "cells": [
  {
   "cell_type": "code",
   "execution_count": 5,
   "metadata": {},
   "outputs": [],
   "source": [
    "import os, subprocess\n",
    "def dense_encoder(path_json_file,\n",
    "                  path_output_dir,\n",
    "                  delimiter=\"\\n\",\n",
    "                  shard_id=0,\n",
    "                  shard_num=1,\n",
    "                  encoder=\"castorini/tct_colbert-v2-hnp-msmarco\",\n",
    "                  batch=32,  \n",
    "                ):\n",
    "    \n",
    "    cmd = f\"\"\"\n",
    "        python -m pyserini.encode \\\n",
    "        input   --corpus {path_json_file} \\\n",
    "                --fields text \\  # fields in collection contents\n",
    "                --delimiter {delimiter} \\\n",
    "                --shard-id {shard_id} \\   # The id of current shard. Default is 0\n",
    "                --shard-num {shard_num} \\  # The total number of shards. Default is 1\n",
    "        output  --embeddings {path_output_dir} \\\n",
    "                --to-faiss \\\n",
    "        encoder --encoder {encoder} \\\n",
    "                --fields text \\  # fields to encode, they must appear in the input.fields\n",
    "                --batch {batch} \\\n",
    "                --fp16  # if inference with autocast()\n",
    "    \"\"\"\n",
    "    p1 = subprocess.call(cmd, shell=True)\n",
    "    return p1"
   ]
  },
  {
   "cell_type": "code",
   "execution_count": 7,
   "metadata": {},
   "outputs": [
    {
     "name": "stderr",
     "output_type": "stream",
     "text": [
      "Traceback (most recent call last):\n",
      "  File \"/home/peng_luh/.pyenv/versions/3.9.5/lib/python3.9/runpy.py\", line 197, in _run_module_as_main\n",
      "    return _run_code(code, main_globals, None,\n",
      "  File \"/home/peng_luh/.pyenv/versions/3.9.5/lib/python3.9/runpy.py\", line 87, in _run_code\n",
      "    exec(code, run_globals)\n",
      "  File \"/home/peng_luh/__git/search_l3s/search_l3s_search_srv/.venv/lib/python3.9/site-packages/pyserini/encode/__main__.py\", line 118, in <module>\n",
      "    encoder = init_encoder(args.encoder.encoder, args.encoder.encoder_class, device=args.encoder.device)\n",
      "AttributeError: 'NoneType' object has no attribute 'encoder'\n",
      "/bin/sh: 3: --delimiter: not found\n",
      "/bin/sh: 3: --shard-id: not found\n",
      "/bin/sh: 4: --shard-num: not found\n",
      "/bin/sh: 5: output: not found\n",
      "/bin/sh: 6: --batch: not found\n"
     ]
    }
   ],
   "source": [
    "# from logic import Encoder\n",
    "import os, pathlib, json\n",
    "\n",
    "# en = Encoder()\n",
    "root = \"/home/peng_luh/__git/search_l3s/search_l3s_search_srv\"\n",
    "path_json_file = os.path.join(root, \"datasets/mls-tasks/tasks.json\")\n",
    "path_output_dir = os.path.join(root, \"encodes/dense_encoder\")\n",
    "\n",
    "\n",
    "p = dense_encoder(path_json_file, path_output_dir, delimiter=\";\")\n",
    "\n",
    "# path_cwd = os.getcwd()\n",
    "# path_json_file = os.path.join(os.getenv(\"ROOT_PATH\"), \"datasets/mls-tasks/tasks.json\")\n",
    "# print(path_json_file)\n",
    "# dense_encoder()"
   ]
  },
  {
   "cell_type": "code",
   "execution_count": 11,
   "metadata": {},
   "outputs": [],
   "source": [
    "import json\n",
    "\n",
    "with open(\"/home/peng_luh/__git/search_l3s/search_l3s_search_srv/datasets/mls-tasks/tasks.json\") as f:\n",
    "    data = json.load(f)\n",
    "    for d in data:\n",
    "        d[\"contents\"] = d[\"contents\"] + \"\\n\"\n",
    "\n",
    "with open(\"/home/peng_luh/__git/search_l3s/search_l3s_search_srv/datasets/mls-tasks/tasks2.json\", 'w') as g:\n",
    "    data_string = json.dumps(data)\n",
    "    g.write(data_string)"
   ]
  },
  {
   "cell_type": "code",
   "execution_count": 13,
   "metadata": {},
   "outputs": [
    {
     "name": "stderr",
     "output_type": "stream",
     "text": [
      "Traceback (most recent call last):\n",
      "  File \"/home/peng_luh/.pyenv/versions/3.9.5/lib/python3.9/runpy.py\", line 197, in _run_module_as_main\n",
      "    return _run_code(code, main_globals, None,\n",
      "  File \"/home/peng_luh/.pyenv/versions/3.9.5/lib/python3.9/runpy.py\", line 87, in _run_code\n",
      "    exec(code, run_globals)\n",
      "  File \"/home/peng_luh/__git/search_l3s/search_l3s_search_srv/.venv/lib/python3.9/site-packages/pyserini/encode/__main__.py\", line 118, in <module>\n",
      "    encoder = init_encoder(args.encoder.encoder, args.encoder.encoder_class, device=args.encoder.device)\n",
      "AttributeError: 'NoneType' object has no attribute 'encoder'\n",
      "/bin/sh: 3: --delimiter: not found\n",
      "/bin/sh: 5: --shard-num: not found\n",
      "/bin/sh: 6: output: not found\n",
      "/bin/sh: 7: --batch: not found\n"
     ]
    }
   ],
   "source": [
    "import subprocess\n",
    "\n",
    "cmd = f\"\"\"\n",
    "        python -m pyserini.encode \\\n",
    "        input   --corpus /home/peng_luh/__git/search_l3s/search_l3s_search_srv/datasets/mls-tasks/tasks2.json \\\n",
    "                --fields text \\  # fields in collection contents\n",
    "                --delimiter \"\\n\" \\\n",
    "                --shard-id 0 \\   # The id of current shard. Default is 0\n",
    "                --shard-num 1 \\  # The total number of shards. Default is 1\n",
    "        output  --embeddings /home/peng_luh/__git/search_l3s/search_l3s_search_srv/encodes/dense_encoder \\\n",
    "                --to-faiss \\\n",
    "        encoder --encoder castorini/tct_colbert-v2-hnp-msmarco \\\n",
    "                --fields text \\  # fields to encode, they must appear in the input.fields\n",
    "                --batch 32 \\\n",
    "                --fp16  # if inference with autocast()\n",
    "\"\"\"\n",
    "\n",
    "p = subprocess.call(cmd, shell=True)"
   ]
  }
 ],
 "metadata": {
  "kernelspec": {
   "display_name": ".venv",
   "language": "python",
   "name": "python3"
  },
  "language_info": {
   "codemirror_mode": {
    "name": "ipython",
    "version": 3
   },
   "file_extension": ".py",
   "mimetype": "text/x-python",
   "name": "python",
   "nbconvert_exporter": "python",
   "pygments_lexer": "ipython3",
   "version": "3.9.5"
  },
  "orig_nbformat": 4
 },
 "nbformat": 4,
 "nbformat_minor": 2
}
