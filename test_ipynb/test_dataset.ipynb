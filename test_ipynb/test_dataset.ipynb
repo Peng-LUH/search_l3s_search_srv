{
 "cells": [
  {
   "cell_type": "code",
   "execution_count": 17,
   "metadata": {},
   "outputs": [
    {
     "data": {
      "text/plain": [
       "{'id': 418,\n",
       " 'contents': 'Kick-off Grundlagen der Sensorik - Schwingungssensor; Cover; Sicherheitshinweise; Einführung; Projektvorstellung.   1. Cover:  Willkommen zum Projekt Grundlagen der Sensorik - Schwingungssensor Lesen Sie bitte die nachfolgenden Sicherheitshinweise sowie die einleitenden Hinweise zum Projektablauf aufmerksam durch, bevor Sie mit der Bearbeitung der Betrieblichen Aufträge in den Versuchen starten. 2. Sicherheitshinweise:  Sicherheitshinweise Achtung! Beachten Sie beim Aufbau und bei der Erprobung der Geräte alle erforderlichen Sicherheitsbestimmungen, die Laborordnung und die erforderlichen Schutzmaßnahmen! Verdrahten Sie den Laborversuch grundsätzlich im stromlosen Zustand! Bei Anschluss der Versorgungsspannungen auf richtige Polarität und Spannungshöhe prüfen! © Copyright: ETS DIDACTIC GMBH Im Hüttental 11 | 85125 Kinding  | Germany Alle Rechte vorbehalten. Das Werk und seine Teile sind urheberrechtlich geschützt. Jede Nutzung in anderen als den gesetzlich zugelassenen Fällen bedarf der vorherigen schriftlichen Einwilligung des Herausgebers. Hinweis zu § 60a/b UrhG: Weder das Werk noch seine Teile dürfen ohne eine solche Einwilligung in ein Netzwerk eingestellt werden. Dies gilt auch für Intranets von Schulen und sonstigen Institutionen. Ausdrücklich hiervon ausgenommen sind die Arbeitsblätter für Schüler. Diese dürfen innerhalb der Institution, die dieses Handbuch erworben hat, zur Unterrichtsgestaltung in unveränderter Form beliebig vervielfältigt werden. Falls Änderungen durch eine nicht von der ETS DIDACTIC GMBH autorisierte Stelle vorgenommen werden, erlöschen hierdurch die Produzentenhaftung und ein etwaiger Garantieanspruch. 3. Einführung:  Einführung Sensoren bilden zusammen mit Aktoren eine wichtige Grundlage für die Automatisierung von technischen Anwendungen. Die nachfolgende Abbildung  zeigt eine hierarchische Darstellung der verschiedenen Ebenen der automatisierten Produktion. Sensoren und Aktoren befinden sich hier auf der Feldebene, also der untersten Ebene des Automatisierungssystems. Im Feld messen Sensoren physikalische Prozessgrößen und -zustände und wandeln diese in elektrische Größen um. Die Daten der Feldebene werden an die Steuerungsebene (z. B. SPS) gesendet, welche über die Aktoren den Prozess führen kann. Automatisierungspyramide In vielen Anwendungen und Prozessen ist es wichtig, Schwingungen zu Überwachen und Störungen zu erkennen oder zum Zweck der Prozessführung zu messen. Allen Störungen ist gemeinsam, dass ihre Ursache Schwingungen und Stöße sind. Dies führt zu Rissentstehung und Materialversagen. Werden diese kontinuierlich oder in festen Abständen gemessen, werden Fehlfunktion, Abnutzung und Schäden erkannt und können behoben werden. Ein gängiges Beispiel hierfür ist die frühzeitige Erfassung von Störungen in Abluft– und Belüftungsanlagen. Die Instandhaltung und Instandsetzung bei Maschinen und Anlagen kann durch das frühzeitige Erkennen von Störungen erheblich verbessert werden. Eine ständige Maschinen– und Anlagenverfügbarkeit zeigt das hohe Marktpotential für die Schwingungssensorik. Je nach Anwendungsbeispiel liegen allerdings sehr unterschiedliche Anforderungen an Bandbreite, Empfindlichkeit, Dynamikbereich, Frequenzbereich, Null–g–Spannung, Spannungsrauschdichte oder der verfügbaren Schnittstellen vor. Dementsprechend sind am Markt eine Reihe von Sensoren und Messgeräten verfügbar, die in ihrer Funktionsweise recht unterschiedlich sind. Dieses Handbuch betrachtet die Schwingungsmessung mit mikromechanischem Beschleunigungssensor und einem kapazitiven Messprinzip. 4. Projektvorstellung:  Sensoranordnung für die Beschleunigungserfassung eines Lüftermotors In einem großen Unternehmen werden Magnesium–Druckgussteile mit Magnesium–Druckgussmaschinen hergestellt. Diese Maschinen befinden sich in großen Hallen. In den Hallen befinden sich große Abluft– und Belüftungsanlagen, die den in der Luft befindlichen Magnesiumstaub abtransportieren und Frischluft zuführen. Es ist unbedingt erforderlich, dass die Abluftanlagen vorhanden und zu jeder Zeit betriebsbereit sind. Aus den Hallen muss immer ausreichend Magnesiumstaub abtransportiert und in gleichem Maße Frischluft zugeführt werden. Trotz der Belüftung lagert sich der Magnesiumstaub aus der Luft an Maschinen und Anlagen ab. Von der Ablagerung ist auch die Abluft– und Belüftungsanlage betroffen. Der Magnesiumstaub kann sich in kleinen Schlitzen und Öffnungen ablagern. Gelangt der Staub in die Lagerung des Lüfterrades, hat das zur Folge, dass der Lüftermotor Unwucht bekommt und sich mit der Zeit selbst beschädigt und ausfällt. Aus Gründen des Maschinen– und Arbeitsschutzes, sowie zur Erhaltung und Bereitschaft der Anlagen, muss eine hohe Ausfallsicherheit der Abluft– und Belüftungsanlage gewährleistet werden. Belüftungsanlage Der Inhaber des Unternehmens möchte seine Maschinen mit Überwachungssensorik ausstatten. Er möchte mit dieser Umbaumaßnahme am Belüftungssystem beginnen und aufgrund der oben genannten Gründe einen Schwingungssensor einbauen lassen. Dieser Schwingungssensor überwacht die Schwingungen des Lüftermotors und hilft dabei Schäden frühzeitig zu erkennen und diese dann zu beheben. Um mehr über die Funktion und die Eigenschaften des Sensors zu erfahren, erarbeiten Sie in der Arbeitsplanung die Grundlagen und die wichtigsten Fakten aus dem Datenblatt, bevor Sie mit der Umsetzung des betrieblichen Auftrags starten. Hinweis zur Bearbeitung der Versuche: Vertiefende theoretische Grundlagen und Datenblätter finden Sie in jedem Arbeitsschritt im Menübereich \"Aufgabendokumente\". Nutzen Sie diese, um sich das nötige Wissen für die Lösung der Aufgabenstellung und zur Beantwortung der Fragen in den Formularen anzueignen. Sie können nun mit der Bearbeitung der Versuchsreihe starten.',\n",
       " '@id': '/mls-api/tasks/418'}"
      ]
     },
     "execution_count": 17,
     "metadata": {},
     "output_type": "execute_result"
    }
   ],
   "source": [
    "import pandas as pd\n",
    "import os\n",
    "import json\n",
    "\n",
    "dataset_sim = []\n",
    "with open(\"/home/peng_luh/__git/search_l3s/search_l3s_search_srv/datasets/mls-tasks/jsonl/data.jsonl\", \"r\") as file:\n",
    "    for line in file:\n",
    "        d = json.loads(line)\n",
    "        dataset_sim.append(d)\n",
    "\n",
    "dataset = pd.read_csv(\"/home/peng_luh/__git/search_l3s/search_l3s_search_srv/datasets/mls_dataset.csv\")\n",
    "\n",
    "ids = dataset[\"task_id\"]\n",
    "contents = dataset[\"task_text\"]\n",
    "\n",
    "for i in range(len(ids)):\n",
    "    if ids[i] == dataset_sim[i].get(\"id\"):\n",
    "        dataset_sim[i][\"contents\"] += f\". {contents[i]}\"\n",
    "        \n",
    "\n"
   ]
  },
  {
   "cell_type": "code",
   "execution_count": 18,
   "metadata": {},
   "outputs": [],
   "source": [
    "import os\n",
    "output_dir_path = \"/home/peng_luh/__git/search_l3s/search_l3s_search_srv/datasets/mls-tasks-full/json\"\n",
    "\n",
    "if not os.path.exists(output_dir_path):\n",
    "    os.makedirs(output_dir_path)\n",
    "\n",
    "output_file_path = os.path.join(output_dir_path, \"data.json\")\n",
    "\n",
    "with open(output_file_path, \"w\") as jsonl_file:\n",
    "    json.dump(dataset_sim, jsonl_file)\n",
    "    jsonl_file.write('\\n')"
   ]
  }
 ],
 "metadata": {
  "kernelspec": {
   "display_name": ".venv",
   "language": "python",
   "name": "python3"
  },
  "language_info": {
   "codemirror_mode": {
    "name": "ipython",
    "version": 3
   },
   "file_extension": ".py",
   "mimetype": "text/x-python",
   "name": "python",
   "nbconvert_exporter": "python",
   "pygments_lexer": "ipython3",
   "version": "3.9.5"
  },
  "orig_nbformat": 4
 },
 "nbformat": 4,
 "nbformat_minor": 2
}
